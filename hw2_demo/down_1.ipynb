{
 "cells": [
  {
   "cell_type": "code",
   "execution_count": 45,
   "metadata": {
    "collapsed": false
   },
   "outputs": [],
   "source": [
    "rawUserArtistData = sc.textFile(\"user_artist_data.txt\")"
   ]
  },
  {
   "cell_type": "code",
   "execution_count": 46,
   "metadata": {
    "collapsed": false
   },
   "outputs": [],
   "source": [
    "rawArtistData = sc.textFile(\"artist_data.txt\")"
   ]
  },
  {
   "cell_type": "code",
   "execution_count": 47,
   "metadata": {
    "collapsed": true
   },
   "outputs": [],
   "source": [
    "def solve(line):\n",
    "    if '\\t' in line:\n",
    "        identity, name = line.split('\\t',1)\n",
    "        try:\n",
    "            ans = (int(identity), name.strip())\n",
    "            return ans\n",
    "        except ValueError, e:\n",
    "            return None\n",
    "    else:\n",
    "        return None"
   ]
  },
  {
   "cell_type": "code",
   "execution_count": 49,
   "metadata": {
    "collapsed": true
   },
   "outputs": [],
   "source": [
    "artistByID = rawArtistData.map(lambda line: solve(line)).filter(lambda line: line!=None)"
   ]
  },
  {
   "cell_type": "code",
   "execution_count": 50,
   "metadata": {
    "collapsed": true
   },
   "outputs": [],
   "source": [
    "rawArtistAlias = sc.textFile(\"artist_alias.txt\")"
   ]
  },
  {
   "cell_type": "code",
   "execution_count": 51,
   "metadata": {
    "collapsed": true
   },
   "outputs": [],
   "source": [
    "def solve2(line):\n",
    "    tokens = line.split('\\t')\n",
    "    if tokens[0] == None:\n",
    "        return None\n",
    "    else:\n",
    "        try:\n",
    "            ans = (int(tokens[0]), int(tokens[1]))\n",
    "            return ans\n",
    "        except ValueError:\n",
    "            return None"
   ]
  },
  {
   "cell_type": "code",
   "execution_count": 52,
   "metadata": {
    "collapsed": false
   },
   "outputs": [],
   "source": [
    "artistAlias = rawArtistAlias.map(solve2).filter(lambda line: line!=None).collectAsMap()"
   ]
  },
  {
   "cell_type": "code",
   "execution_count": 53,
   "metadata": {
    "collapsed": false
   },
   "outputs": [],
   "source": [
    "from pyspark.mllib.recommendation import ALS, Rating, MatrixFactorizationModel"
   ]
  },
  {
   "cell_type": "code",
   "execution_count": 54,
   "metadata": {
    "collapsed": false
   },
   "outputs": [],
   "source": [
    "bArtistAlias = sc.broadcast(artistAlias)"
   ]
  },
  {
   "cell_type": "code",
   "execution_count": 55,
   "metadata": {
    "collapsed": false
   },
   "outputs": [],
   "source": [
    "def solve3(line):\n",
    "    userID, artistID, count = map(int, line.split(' '))\n",
    "    ArtistAliasDict = bArtistAlias.value\n",
    "    if artistID in ArtistAliasDict:\n",
    "        finalArtistID = ArtistAliasDict[artistID]\n",
    "    else:\n",
    "        finalArtistID = artistID\n",
    "    return Rating(userID, artistID, count)"
   ]
  },
  {
   "cell_type": "code",
   "execution_count": 56,
   "metadata": {
    "collapsed": true
   },
   "outputs": [],
   "source": [
    "trainData = rawUserArtistData.map(lambda line: solve3(line)).cache()"
   ]
  },
  {
   "cell_type": "code",
   "execution_count": 57,
   "metadata": {
    "collapsed": false,
    "scrolled": true
   },
   "outputs": [
    {
     "data": {
      "text/plain": [
       "[Rating(user=1000002, product=1, rating=55.0),\n",
       " Rating(user=1000002, product=1000006, rating=33.0),\n",
       " Rating(user=1000002, product=1000007, rating=8.0),\n",
       " Rating(user=1000002, product=1000009, rating=144.0),\n",
       " Rating(user=1000002, product=1000010, rating=314.0)]"
      ]
     },
     "execution_count": 57,
     "metadata": {},
     "output_type": "execute_result"
    }
   ],
   "source": [
    "trainData.take(5)"
   ]
  },
  {
   "cell_type": "code",
   "execution_count": 58,
   "metadata": {
    "collapsed": false
   },
   "outputs": [],
   "source": [
    "model = ALS.trainImplicit(trainData, 10, 5, alpha=1.0)"
   ]
  },
  {
   "cell_type": "code",
   "execution_count": 59,
   "metadata": {
    "collapsed": true
   },
   "outputs": [],
   "source": [
    "rawArtistsForUser=rawUserArtistData.map(lambda line: line.split(' ')).filter(lambda line: int(line[0]) == 2093760)"
   ]
  },
  {
   "cell_type": "code",
   "execution_count": 60,
   "metadata": {
    "collapsed": false
   },
   "outputs": [
    {
     "data": {
      "text/plain": [
       "[[u'2093760', u'1180', u'1'],\n",
       " [u'2093760', u'1255340', u'3'],\n",
       " [u'2093760', u'378', u'1'],\n",
       " [u'2093760', u'813', u'2'],\n",
       " [u'2093760', u'942', u'7']]"
      ]
     },
     "execution_count": 60,
     "metadata": {},
     "output_type": "execute_result"
    }
   ],
   "source": [
    "rawArtistsForUser.take(10)"
   ]
  },
  {
   "cell_type": "code",
   "execution_count": 61,
   "metadata": {
    "collapsed": false
   },
   "outputs": [],
   "source": [
    "existingProducts =set(rawArtistsForUser.map(lambda line: int(line[1])).collect())"
   ]
  },
  {
   "cell_type": "code",
   "execution_count": 62,
   "metadata": {
    "collapsed": false
   },
   "outputs": [],
   "source": [
    "recommendations = model.call(\"recommendProducts\", 2093760, 10)"
   ]
  },
  {
   "cell_type": "code",
   "execution_count": 63,
   "metadata": {
    "collapsed": false
   },
   "outputs": [],
   "source": [
    "recommendedProducts = set([i[1] for i in recommendations])"
   ]
  },
  {
   "cell_type": "code",
   "execution_count": 64,
   "metadata": {
    "collapsed": false
   },
   "outputs": [
    {
     "name": "stdout",
     "output_type": "stream",
     "text": [
      "50 Cent\n",
      "Snoop Dogg\n",
      "Jay-Z\n",
      "Kanye West\n",
      "Dr. Dre\n",
      "Ludacris\n",
      "2Pac\n",
      "Eminem\n",
      "The Game\n",
      "Jay-Z and Linkin Park\n"
     ]
    }
   ],
   "source": [
    "artist_recommend = artistByID.filter(lambda line: line[0] in recommendedProducts).collect()\n",
    "for i in artist_recommend:\n",
    "    print(i[1])"
   ]
  },
  {
   "cell_type": "code",
   "execution_count": 65,
   "metadata": {
    "collapsed": false
   },
   "outputs": [
    {
     "data": {
      "text/plain": [
       "[(2814, u'50 Cent'),\n",
       " (4605, u'Snoop Dogg'),\n",
       " (1007614, u'Jay-Z'),\n",
       " (1037970, u'Kanye West'),\n",
       " (1811, u'Dr. Dre'),\n",
       " (1003249, u'Ludacris'),\n",
       " (1001819, u'2Pac'),\n",
       " (930, u'Eminem'),\n",
       " (1300642, u'The Game'),\n",
       " (6914803, u'Jay-Z and Linkin Park')]"
      ]
     },
     "execution_count": 65,
     "metadata": {},
     "output_type": "execute_result"
    }
   ],
   "source": [
    "artist_recommend"
   ]
  },
  {
   "cell_type": "code",
   "execution_count": null,
   "metadata": {
    "collapsed": true
   },
   "outputs": [],
   "source": [
    ""
   ]
  }
 ],
 "metadata": {
  "kernelspec": {
   "display_name": "Python 2",
   "language": "python",
   "name": "python2"
  },
  "language_info": {
   "codemirror_mode": {
    "name": "ipython",
    "version": 2.0
   },
   "file_extension": ".py",
   "mimetype": "text/x-python",
   "name": "python",
   "nbconvert_exporter": "python",
   "pygments_lexer": "ipython2",
   "version": "2.7.6"
  }
 },
 "nbformat": 4,
 "nbformat_minor": 0
}